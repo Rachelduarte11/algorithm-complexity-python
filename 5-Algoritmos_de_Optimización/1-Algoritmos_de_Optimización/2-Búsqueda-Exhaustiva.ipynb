{
 "cells": [
  {
   "cell_type": "markdown",
   "metadata": {},
   "source": [
    "# Busqueda Exahustiva o Fuerza Bruta\n",
    "\n",
    "Esta consiste en enumerar todos los posibles caminos para encontrar la solución a un problema. Por ejemplo, un algoritmo de fuerza bruta para encontrar el divisor de un número natural **n** consistiría en enumerar todos los enteros desde 1 hasta **n**, chequeando si cada uno de ellos divide **n** sin generar resto.\n",
    "\n",
    "La fuerza bruta es sencilla y facil de implementar, encuentra una solución siempre (si la hay), el problema es su coste de ejecución que crece exponencialmente al numéro de posibles caminos que tenga, por ejemplo en el problema de la mochila que veras más adelante este va a tener 4 objetos posibles con diferentes pesos los cuales tenemos que \"robar\" en una mochila de 20 kg, este por cada objeto tiene dos opciones **incluir** o **excluir**  por lo tanto hace todas las combinaciones disponibles que tiene.\n",
    "![exponencial](../../img/image1.png) \n",
    "\n",
    "Y si recuerdas del texto [Notación Big O](../../1-Fundamentos/1-notacion-big-O.ipynb) la complejidad exponencial no es muy eficiente para grandes volumenes de datos. Normalmente esta se suele utilizar cuando el número de soluciones o caminos candidatos no es elevado o bien cuando previamente este ya ha sido reducido con algun otro método.\n",
    "\n",
    "![arbol de decision Knapsack problem](../../img/image2.png)"
   ]
  },
  {
   "cell_type": "markdown",
   "metadata": {},
   "source": [
    "## Problema de la Mochila (0/1 Knapsack Problem)\n",
    "Imagina que eres un ladrón que entra a un museo pero tienes un gran problema, nada mas tienes una mochila pero hay muchísimas cosas mas de las que puedes cargar, por lo cual debes determinar cuales artículos puedes cargar y te entregaran el mayor valor posible.\n",
    "\n",
    "Para este problema sabemos que no podemos dividir los artículos, por lo que nuestra primera aproximación sera evaluar los artículos.\n",
    "\n",
    "![Knackpack problem](../../img/knackpack-problem.png)\n",
    "\n",
    "### 🔎¿De qué trata este Algoritmo?\n",
    "Dado una mochila (mochila) con un tamaño máximo (size_backpack) y una serie de objetos con diferentes valores (vals) y pesos (weights), el objetivo es que determinemos el valor máximo que puede caber en nuestra mochila, sin exceder la capacidad de esta\n"
   ]
  },
  {
   "cell_type": "code",
   "execution_count": null,
   "metadata": {},
   "outputs": [
    {
     "name": "stdout",
     "output_type": "stream",
     "text": [
      "1700\n"
     ]
    }
   ],
   "source": [
    "def backpack(size_backpack, weights, vals, n):\n",
    "    #Caso base\n",
    "    if n == 0 or size_backpack == 0:\n",
    "        return 0\n",
    "    \n",
    "    if weights [n-1] > size_backpack:\n",
    "        return backpack(size_backpack, weights, vals, n-1)\n",
    "        \n",
    "    \n",
    "    return max(vals[n-1] + backpack(size_backpack-weights[n-1], weights, vals, n-1), \n",
    "               backpack(size_backpack, weights, vals, n-1))\n",
    "    \n",
    "\n",
    "if __name__ == '__main__':\n",
    "    vals= [300, 500, 200, 900]\n",
    "    weights= [4, 7, 9, 8]\n",
    "    size_backpack= 20\n",
    "    n= len(vals)\n",
    "\n",
    "    result= backpack(size_backpack, weights, vals, n)\n",
    "    print(result)  "
   ]
  },
  {
   "cell_type": "markdown",
   "metadata": {},
   "source": [
    "### Pero, ¿cómo llega a esta solución? 😦\n",
    "El Algoritmo hace todas las combinaciones posibles, incluye o excluye cada objeto y hace varios caminos, luego evalua cual fue el valor mayor y esa es la respuesta que arroja. \n",
    "\n",
    "En este ejemplo el pudo hacer unas 16 combinaciones diferentes\n",
    "![table knackpack](../../img/knackpack-problem-table.png)"
   ]
  }
 ],
 "metadata": {
  "kernelspec": {
   "display_name": "base",
   "language": "python",
   "name": "python3"
  },
  "language_info": {
   "codemirror_mode": {
    "name": "ipython",
    "version": 3
   },
   "file_extension": ".py",
   "mimetype": "text/x-python",
   "name": "python",
   "nbconvert_exporter": "python",
   "pygments_lexer": "ipython3",
   "version": "3.12.3"
  }
 },
 "nbformat": 4,
 "nbformat_minor": 2
}
