{
 "cells": [
  {
   "cell_type": "markdown",
   "metadata": {},
   "source": [
    "# Introducción a los Algoritmos de Ordenamiento\n",
    "\n",
    "## Saberes Previos\n",
    "\n",
    "### Conceptos de Conjunto o Set Interface\n",
    "\n",
    "En programación, un conjunto (set) es una estructura de datos que alamacena elemntos únicos. Dento de ella se pueden realizar varias operaciones:\n",
    "\n",
    "- **Creación (build(X)):** construir un conjunto a partir de una lista de elementos.\n",
    "- **Tamaño (len()):** obtener la cantidad de elementos almacenados.\n",
    "- **Búsqueda (find(k)):** encontrar un elemento con clave k.\n",
    "- **Inserción (insert(x)):** agregar un elemento x al conjunto.\n",
    "- **Eliminación (delete(k)):** eliminar un elemento con clave k.\n",
    "- **Ordenación (ord()):** devolver los elementos en orden creciente.\n",
    "- **Mínimo (find min()) y Máximo (find max()):** encontrar el menor y mayor elemento.\n",
    "- **Sucesor (find next(k)) y Predecesor (find prev(k)):** encontrar el siguiente y anterior elemento en el orden.\n",
    "\n",
    "Los beneficios de tener una lista ordenada son:\n",
    "\n",
    "1. Encontrar mínimo/máximo rápidamente (O(1), pues están en los extremos del array).\n",
    "2. Hacer búsqueda binaria en O(log n).\n",
    "\n",
    "Pero, **¿Cómo podemos ordenar eficientemente un array?**"
   ]
  }
 ],
 "metadata": {
  "language_info": {
   "name": "python"
  }
 },
 "nbformat": 4,
 "nbformat_minor": 2
}
