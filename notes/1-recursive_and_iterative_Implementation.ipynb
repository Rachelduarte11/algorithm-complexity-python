{
 "cells": [
  {
   "cell_type": "markdown",
   "metadata": {},
   "source": [
    "# Algorithm Complexity with Python\n",
    "\n",
    "## Introduction\n",
    "\n",
    "### Iterative Implementation\n",
    "\n",
    "This approach uses control structures such as loops to solve a problem.\n",
    "It focuses on finding a solution by repeating a series of steps until the desired solution is reached.\n",
    "\n",
    "#### Characteristics\n",
    "- More memory-efficient because it does not use the system's call stack.\n",
    "- Ideal for problems that can be broken down into repetitive steps.\n",
    "\n",
    "#### Example: Iterative Factorial"
   ]
  },
  {
   "cell_type": "code",
   "execution_count": 4,
   "metadata": {},
   "outputs": [],
   "source": [
    "n= 500"
   ]
  },
  {
   "cell_type": "code",
   "execution_count": 5,
   "metadata": {},
   "outputs": [],
   "source": [
    "def factorial_iterative(n):\n",
    "    result = 1\n",
    "    for i in range(1, n + 1):\n",
    "        result *= i\n",
    "    return result"
   ]
  },
  {
   "cell_type": "markdown",
   "metadata": {},
   "source": [
    "### Recursive Implementation\n",
    "\n",
    "Recursion occurs when a function calls itself to solve a problem.\n",
    "It is useful for problems that can be divided into smaller subproblems.\n",
    "\n",
    "#### Characteristics\n",
    "- Divides the problem into smaller subproblems until reaching the base case.\n",
    "- Uses more memory because each recursive call is stored in the stack.\n",
    "- Can be more expressive for certain problems, such as trees or graphs.\n",
    "\n",
    "#### Example: Recursive Factorial"
   ]
  },
  {
   "cell_type": "code",
   "execution_count": 6,
   "metadata": {},
   "outputs": [],
   "source": [
    "def factorial_recursive(n):\n",
    "    if n == 0 or n == 1:\n",
    "        return 1\n",
    "    else:\n",
    "        return n * factorial_recursive(n - 1)"
   ]
  },
  {
   "cell_type": "markdown",
   "metadata": {},
   "source": [
    "## Recursive Implementation vs Iterative Implementation\n",
    "\n",
    "This code compares the efficiency of two implementations of the factorial calculation:\n",
    "\n",
    "\n",
    "1. **Iterative:** Uses a `while` loop to multiply numbers successively until reaching `1`.\n",
    "2. **Recursive:** Uses recursive calls to break down the problem into smaller subproblems until reaching the base case (`n == 1`).\n"
   ]
  },
  {
   "cell_type": "code",
   "execution_count": 8,
   "metadata": {},
   "outputs": [
    {
     "name": "stdout",
     "output_type": "stream",
     "text": [
      "Tiempo factorial iterativo: 2.836505889892578\n",
      "Memoria factorial iterativo (actual/max): 155767 / 560279 bytes\n",
      "Tiempo factorial recursivo: 134.78320598602295\n",
      "Memoria factorial recursivo (actual/max): 154169 / 3346397 bytes\n"
     ]
    }
   ],
   "source": [
    "import time\n",
    "import sys\n",
    "import tracemalloc\n",
    "\n",
    "sys.setrecursionlimit(1000000)\n",
    "\n",
    "def factorial(n):\n",
    "    respuesta = 1\n",
    "    while n > 1:\n",
    "        respuesta *= n\n",
    "        n -= 1\n",
    "    return respuesta\n",
    "\n",
    "def factorial_r(n):\n",
    "    if n == 1:\n",
    "        return 1\n",
    "    return n * factorial_r(n - 1)\n",
    "\n",
    "if __name__ == '__main__':\n",
    "    n = 100000\n",
    "\n",
    "    # Medir tiempo y memoria para el factorial iterativo\n",
    "    tracemalloc.start()  # Inicia el rastreo de memoria\n",
    "    comienzo = time.time()\n",
    "    factorial(n)\n",
    "    final = time.time()\n",
    "    memoria_iterativa = tracemalloc.get_traced_memory()  # Obtiene el uso de memoria actual y máximo\n",
    "    tracemalloc.stop()\n",
    "    print(\"Tiempo factorial iterativo:\", final - comienzo)\n",
    "    print(\"Memoria factorial iterativo (actual/max):\", memoria_iterativa[0], \"/\", memoria_iterativa[1], \"bytes\")\n",
    "\n",
    "    # Medir tiempo y memoria para el factorial recursivo\n",
    "    tracemalloc.start()  # Reinicia el rastreo de memoria\n",
    "    comienzo = time.time()\n",
    "    factorial_r(n)\n",
    "    final = time.time()\n",
    "    memoria_recursiva = tracemalloc.get_traced_memory()  # Obtiene el uso de memoria actual y máximo\n",
    "    tracemalloc.stop()\n",
    "    print(\"Tiempo factorial recursivo:\", final - comienzo)\n",
    "    print(\"Memoria factorial recursivo (actual/max):\", memoria_recursiva[0], \"/\", memoria_recursiva[1], \"bytes\")\n"
   ]
  },
  {
   "cell_type": "markdown",
   "metadata": {},
   "source": [
    "The program measures the **execution time** and **memory usage** of both implementations:\n",
    "\n",
    "- **`tracemalloc`** is used to track memory usage.\n",
    "- **`time.time()`** measures execution time.\n",
    "- `sys.setrecursionlimit(1000000)` increases the recursion limit to prevent errors when calculating large factorials.\n",
    "\n",
    "For `n = 100000`, the **iterative version is more efficient**, as it avoids the overhead of the call stack used in recursion.\n"
   ]
  }
 ],
 "metadata": {
  "kernelspec": {
   "display_name": "base",
   "language": "python",
   "name": "python3"
  },
  "language_info": {
   "codemirror_mode": {
    "name": "ipython",
    "version": 3
   },
   "file_extension": ".py",
   "mimetype": "text/x-python",
   "name": "python",
   "nbconvert_exporter": "python",
   "pygments_lexer": "ipython3",
   "version": "3.12.3"
  }
 },
 "nbformat": 4,
 "nbformat_minor": 2
}
