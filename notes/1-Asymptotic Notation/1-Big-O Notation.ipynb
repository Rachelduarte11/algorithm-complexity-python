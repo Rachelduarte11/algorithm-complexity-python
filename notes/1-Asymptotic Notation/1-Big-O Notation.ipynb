{
 "cells": [
  {
   "cell_type": "markdown",
   "metadata": {},
   "source": [
    "# Big-O Notation"
   ]
  },
  {
   "cell_type": "markdown",
   "metadata": {},
   "source": [
    "La Notación Big O es una herramienta poderosa en la ciencia de la computación, esta nos ayuda a conocer el peor caso de un algoritmo. Describe el tiempo y espacio del algoritmo.\n",
    "\n",
    "Entender la Notación Big O es esencial para poder entender y analizar un algoritmo "
   ]
  },
  {
   "cell_type": "markdown",
   "metadata": {},
   "source": [
    "## ¿Por qué es importante la notación Big O?\n",
    "\n",
    "Nos permite comparar algoritmos y estructuras de datos para predecir como será su comportamiento mientras se incrementa el tamaño de entrada. En resumen esta describe:\n",
    "\n",
    "1. El peor caso de un algoritmo\n",
    "2. Cómo escala el tiempo o espacio de ejecución con entradas grandes\n",
    "3. Nos ayuda a comparar y seleccionar algoritmos más eficientes"
   ]
  },
  {
   "cell_type": "markdown",
   "metadata": {},
   "source": [
    "## Clases comunes de complejidad Big-O\n",
    "\n",
    "### 1. O(1): Constante\n",
    "\n",
    "- El tiempo de ejecución no depende del tamaño de la entrada"
   ]
  },
  {
   "cell_type": "code",
   "execution_count": 5,
   "metadata": {},
   "outputs": [
    {
     "name": "stdout",
     "output_type": "stream",
     "text": [
      "Mango\n"
     ]
    }
   ],
   "source": [
    "lst= ['Manzana', 'Pera', 'Mango']\n",
    "\n",
    "def constant_complex(lst):\n",
    "    return lst[2]\n",
    "\n",
    "print(constant_complex(lst))\n",
    "\n",
    "# es constante porque accede directo a un elemento de la\n",
    "# lista sin importar el tamaño de la lista\n",
    "        "
   ]
  },
  {
   "cell_type": "markdown",
   "metadata": {},
   "source": [
    "### 2. O(log n): Logarítmica\n",
    "- El tiempo de ejecución crece lentamente conforme n aumenta, es comun en algoritmos como Binary Search"
   ]
  },
  {
   "cell_type": "code",
   "execution_count": 6,
   "metadata": {},
   "outputs": [],
   "source": [
    "def binary_search(lst, x):\n",
    "    low, high = 0, len(lst) - 1\n",
    "    while low <= high:  # El tamaño de la lista se reduce a la mitad en cada iteración\n",
    "        mid = (low + high) // 2\n",
    "        if lst[mid] == x:\n",
    "            return mid\n",
    "        elif lst[mid] < x:\n",
    "            low = mid + 1\n",
    "        else:\n",
    "            high = mid - 1\n",
    "    return -1"
   ]
  },
  {
   "cell_type": "markdown",
   "metadata": {},
   "source": [
    "### O(n): Lineal\n",
    "- El tiempo de ejecución crece proporcionalmente al tamaño de la entrada."
   ]
  },
  {
   "cell_type": "code",
   "execution_count": null,
   "metadata": {},
   "outputs": [],
   "source": [
    "def linear_search(lst, x):\n",
    "    for i in lst:  # Recorre cada elemento\n",
    "        if i == x:\n",
    "            return True\n",
    "    return False"
   ]
  },
  {
   "cell_type": "markdown",
   "metadata": {},
   "source": [
    "### 0(n log n): Superlineal\n",
    "\n",
    "Su tiempo de ejecución crece superlinealmente, es decir, un poco más rápido que O(n) pero mucho mejor que O(n²)."
   ]
  },
  {
   "cell_type": "code",
   "execution_count": null,
   "metadata": {},
   "outputs": [],
   "source": [
    "def merge_sort(arr):\n",
    "    if len(arr) <= 1:\n",
    "        return arr\n",
    "    medio = len(arr) // 2\n",
    "    izquierda = merge_sort(arr[:medio])\n",
    "    derecha = merge_sort(arr[medio:])\n",
    "    return merge(izquierda, derecha)\n",
    "\n",
    "def merge(izquierda, derecha):\n",
    "    resultado = []\n",
    "    i = j = 0\n",
    "    while i < len(izquierda) and j < len(derecha):\n",
    "        if izquierda[i] < derecha[j]:\n",
    "            resultado.append(izquierda[i])\n",
    "            i += 1\n",
    "        else:\n",
    "            resultado.append(derecha[j])\n",
    "            j += 1\n",
    "    resultado.extend(izquierda[i:])\n",
    "    resultado.extend(derecha[j:])\n",
    "    return resultado\n"
   ]
  },
  {
   "cell_type": "markdown",
   "metadata": {},
   "source": [
    "###  O(n^c): Polinómica\n",
    "\n",
    "El tiempo de ejecución crece con el tamaño de la entrada elevado a una constante."
   ]
  },
  {
   "cell_type": "code",
   "execution_count": null,
   "metadata": {},
   "outputs": [],
   "source": [
    "def bubble_sort(arr):\n",
    "    n = len(arr)\n",
    "    for i in range(n):\n",
    "        for j in range(n - i - 1):\n",
    "            if arr[j] > arr[j + 1]:\n",
    "                arr[j], arr[j + 1] = arr[j + 1], arr[j]\n",
    "    return arr\n"
   ]
  },
  {
   "cell_type": "markdown",
   "metadata": {},
   "source": [
    "### O(c^n) - Exponencial\n",
    "\n",
    "El tiempo de ejecución crece exponencialmente con la entrada. Muy ineficiente para grandes valores de n."
   ]
  },
  {
   "cell_type": "code",
   "execution_count": null,
   "metadata": {},
   "outputs": [],
   "source": [
    "def torre_hanoi(n, origen, destino, auxiliar):\n",
    "    if n == 1:\n",
    "        print(f\"Mover disco 1 de {origen} a {destino}\")\n",
    "        return\n",
    "    torre_hanoi(n-1, origen, auxiliar, destino)\n",
    "    print(f\"Mover disco {n} de {origen} a {destino}\")\n",
    "    torre_hanoi(n-1, auxiliar, destino, origen)\n",
    "\n",
    "torre_hanoi(3, 'A', 'C', 'B')\n"
   ]
  },
  {
   "cell_type": "markdown",
   "metadata": {},
   "source": [
    "![Example Image](../../img/Big-O-complexity.png)\n"
   ]
  },
  {
   "cell_type": "code",
   "execution_count": null,
   "metadata": {},
   "outputs": [],
   "source": [
    "import math\n",
    "import time \n",
    "\n",
    "class Complejidad_algoritmica:\n",
    "\tdef __init__(self, n):\n",
    "\t\tself.n = n\n",
    "\n",
    "\tdef constante(self):\n",
    "\t\treturn 1\n",
    "\n",
    "\tdef logaritmica(self):\n",
    "\t\treturn math.log10(self.n)\n",
    "\n",
    "\tdef lineal(self):\n",
    "\t\treturn self.n\n",
    "\n",
    "\tdef log_lineal(self):\t\n",
    "\t\treturn self.n * math.log10(self.n)\n",
    "\n",
    "\tdef\tpolinomial(self):\n",
    "\t\treturn self.n**2\n",
    "\n",
    "\tdef\texponencial(self):\n",
    "\t\treturn 2**self.n\n",
    "\n",
    "\n",
    "def main():\n",
    "\t\n",
    "    nums = [1, 10, 100, 1000, 10000]\n",
    "    \n",
    "    for n in nums:\n",
    "        \n",
    "        complejidad = Complejidad_algoritmica(n)\n",
    "        \n",
    "        print('n es igual a: {}'.format(n))\n",
    "        \n",
    "        principio = time.time()\n",
    "        print(f'El resultado de complejidad constante para n igual a {n} es: ', complejidad.constante())\n",
    "        fin = time.time()\n",
    "        tiempo = fin - principio\n",
    "        print(f'has tardado {tiempo} segundos\\n')\n",
    "        \n",
    "        principio = time.time()\n",
    "        print(f'El resultado de complejidad logaritmica para n igual a {n} es: ', complejidad.logaritmica())\n",
    "        fin = time.time()\n",
    "        tiempo = fin - principio\n",
    "        print(f'has tardado {tiempo} segundos\\n')\n",
    "        \n",
    "        principio = time.time()\n",
    "        print(f'El resultado de complejidad lineal para n igual a {n} es: ', complejidad.lineal())\n",
    "        fin = time.time()\n",
    "        tiempo = fin - principio\n",
    "        print(f'has tardado {tiempo} segundos\\n')\n",
    "        \n",
    "        principio = time.time()\n",
    "        print(f'El resultado de complejidad logaritmica lineal para n igual a {n} es: ', complejidad.log_lineal())\n",
    "        fin = time.time()\n",
    "        tiempo = fin - principio\n",
    "        print(f'has tardado {tiempo} segundos\\n')\n",
    "        \n",
    "        principio = time.time()\n",
    "        print(f'El resultado de complejidad polinomial para n igual a {n} es: ', complejidad.polinomial())\n",
    "        fin = time.time()\n",
    "        tiempo = fin - principio\n",
    "        print(f'has tardado {tiempo} segundos\\n')\n",
    "       \n",
    "        principio = time.time()\n",
    "        print(f'El resultado de complejidad exponencial para n igual a {n} es: ', complejidad.exponencial())\n",
    "        fin = time.time()\n",
    "        tiempo = fin - principio\n",
    "        print(f'has tardado {tiempo} segundos\\n')\n",
    "        \n",
    "        print('\\n\\n')\n",
    "        \n",
    "\t    \n",
    "\n",
    "if __name__ == '__main__':\n",
    "    \n",
    "    main()"
   ]
  },
  {
   "cell_type": "markdown",
   "metadata": {},
   "source": [
    "### Ejemplos de algoritmos segun el tipo de notación"
   ]
  },
  {
   "cell_type": "markdown",
   "metadata": {},
   "source": [
    "![Example Image](../../img/type-and-examples-big-o.png)\n"
   ]
  }
 ],
 "metadata": {
  "kernelspec": {
   "display_name": "base",
   "language": "python",
   "name": "python3"
  },
  "language_info": {
   "codemirror_mode": {
    "name": "ipython",
    "version": 3
   },
   "file_extension": ".py",
   "mimetype": "text/x-python",
   "name": "python",
   "nbconvert_exporter": "python",
   "pygments_lexer": "ipython3",
   "version": "3.12.3"
  }
 },
 "nbformat": 4,
 "nbformat_minor": 2
}
