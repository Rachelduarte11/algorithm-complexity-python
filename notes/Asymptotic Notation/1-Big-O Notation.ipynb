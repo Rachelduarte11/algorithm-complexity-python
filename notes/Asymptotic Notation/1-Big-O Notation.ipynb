{
 "cells": [
  {
   "cell_type": "markdown",
   "metadata": {},
   "source": [
    "# Big-O Notation"
   ]
  },
  {
   "cell_type": "markdown",
   "metadata": {},
   "source": [
    "La Notación Big O es una herramienta poderosa en la ciencia de la computación, esta nos ayuda a conocer el peor caso de un algoritmo. Esta describe el tiempo y espacio del algoritmo.\n",
    "\n",
    "Entender la Notación Big O es esencial para poder entender y analizar un algoritmo "
   ]
  },
  {
   "cell_type": "markdown",
   "metadata": {},
   "source": [
    "![Example Image](../../img/Big-O-complexity.png)\n"
   ]
  },
  {
   "cell_type": "markdown",
   "metadata": {},
   "source": [
    "## ¿Por qué es importante la notación Big O?\n",
    "\n",
    "Nos permite comparar algoritmos y estructuras de datos para predecir como será su comportamiento mientras se incrementa el tamaño de entrada. En resumen esta describe:\n",
    "\n",
    "1. El peor caso de un algoritmo\n",
    "2. Cómo escala el tiempo o espacio de ejecución con entradas grandes\n",
    "3. Nos ayuda a comparar y seleccionar algoritmos más eficientes"
   ]
  },
  {
   "cell_type": "markdown",
   "metadata": {},
   "source": [
    "## Clases comunes de complejidad Big-O\n",
    "\n",
    "### 1. O(1): Constante\n",
    "\n",
    "- El tiempo de ejecución no depende del tamaño de la entrada"
   ]
  },
  {
   "cell_type": "code",
   "execution_count": 5,
   "metadata": {},
   "outputs": [
    {
     "name": "stdout",
     "output_type": "stream",
     "text": [
      "Mango\n"
     ]
    }
   ],
   "source": [
    "lst= ['Manzana', 'Pera', 'Mango']\n",
    "\n",
    "def constant_complex(lst):\n",
    "    return lst[2]\n",
    "\n",
    "print(constant_complex(lst))\n",
    "\n",
    "# es constante porque accede directo a un elemento de la\n",
    "# lista sin importar el tamaño de la lista\n",
    "        "
   ]
  },
  {
   "cell_type": "markdown",
   "metadata": {},
   "source": [
    "### 2. O(log n): Logarítmica\n",
    "- El tiempo de ejecución crece lentamente conforme n aumenta, es comun en algoritmos como Binary Search"
   ]
  },
  {
   "cell_type": "code",
   "execution_count": 6,
   "metadata": {},
   "outputs": [],
   "source": [
    "def binary_search(lst, x):\n",
    "    low, high = 0, len(lst) - 1\n",
    "    while low <= high:  # El tamaño de la lista se reduce a la mitad en cada iteración\n",
    "        mid = (low + high) // 2\n",
    "        if lst[mid] == x:\n",
    "            return mid\n",
    "        elif lst[mid] < x:\n",
    "            low = mid + 1\n",
    "        else:\n",
    "            high = mid - 1\n",
    "    return -1"
   ]
  },
  {
   "cell_type": "markdown",
   "metadata": {},
   "source": [
    "### O(n): Lineal\n",
    "- El tiempo de ejecución crece proporcionalmente al tamaño de la entrada."
   ]
  },
  {
   "cell_type": "code",
   "execution_count": null,
   "metadata": {},
   "outputs": [],
   "source": [
    "def linear_search(lst, x):\n",
    "    for i in lst:  # Recorre cada elemento\n",
    "        if i == x:\n",
    "            return True\n",
    "    return False"
   ]
  },
  {
   "cell_type": "markdown",
   "metadata": {},
   "source": [
    "![Example Image](../../img/type-and-examples-big-o.png)\n"
   ]
  }
 ],
 "metadata": {
  "kernelspec": {
   "display_name": "base",
   "language": "python",
   "name": "python3"
  },
  "language_info": {
   "codemirror_mode": {
    "name": "ipython",
    "version": 3
   },
   "file_extension": ".py",
   "mimetype": "text/x-python",
   "name": "python",
   "nbconvert_exporter": "python",
   "pygments_lexer": "ipython3",
   "version": "3.12.3"
  }
 },
 "nbformat": 4,
 "nbformat_minor": 2
}
