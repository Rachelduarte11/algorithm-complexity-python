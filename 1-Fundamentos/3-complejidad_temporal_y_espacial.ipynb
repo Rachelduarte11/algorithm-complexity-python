{
 "cells": [
  {
   "cell_type": "markdown",
   "metadata": {},
   "source": [
    "# 📌 ¿Por qué comparamos la complejidad de un algoritmo?\n",
    "\n",
    "Comparar la **complejidad de un algoritmo** nos ayuda a entender **qué tan eficiente** es en términos de **tiempo (O(n), O(n²), O(log n), etc.)** y **espacio (memoria utilizada, O(1), O(n), etc.)**. Esto es importante porque:\n",
    "\n",
    "### 1. Nos permite elegir la mejor solución  \n",
    "Algunos algoritmos pueden resolver el mismo problema, pero con diferentes eficiencias.  \n",
    "- **Ejemplo**:  \n",
    "  - Búsqueda lineal: `O(n)`  \n",
    "  - Búsqueda binaria: `O(log n)` (mucho más rápida si los datos están ordenados).  \n",
    "\n",
    "Si tienes una gran cantidad de datos, **`O(log n)` será mucho mejor que `O(n)`**.  \n",
    "\n",
    "### 2. Optimización del rendimiento  \n",
    "Al entender la complejidad de un algoritmo, podemos anticipar su rendimiento para **diferentes tamaños de entrada**.  \n",
    "- **Ejemplo**:  \n",
    "  - Un algoritmo `O(n²)` puede ser aceptable para `n = 100`, pero ineficiente para `n = 1,000,000`.  \n",
    "  - Un algoritmo `O(n log n)` es más escalable para datos grandes.  \n",
    "\n",
    "**Evitamos hacer programas lentos e ineficientes.**  \n",
    "\n",
    "### 3. Manejo de recursos (memoria y procesamiento)  \n",
    "Algunos algoritmos requieren **más memoria** que otros, lo que puede ser un problema en sistemas con **recursos limitados**.  \n",
    "- **Ejemplo**:  \n",
    "  - Algoritmo que usa **`O(1)`** de memoria es mejor que uno que usa **`O(n)`** si tenemos poca RAM.  \n",
    "\n",
    "**Esto es clave en dispositivos con poca memoria (móviles, sistemas embebidos, etc.).**  \n",
    "\n",
    "\n",
    "### 4. Ayuda a predecir la escalabilidad  \n",
    "Si el tamaño de la entrada crece, queremos saber cómo afecta el rendimiento del algoritmo.  \n",
    "- **Ejemplo**:  \n",
    "  - Un algoritmo `O(n)` procesará 10 millones de datos **10 veces más lento** que 1 millón.  \n",
    "  - Un algoritmo `O(log n)` solo será **ligeramente más lento**, porque su crecimiento es logarítmico.  \n",
    "\n",
    "**Nos ayuda a elegir algoritmos que puedan manejar grandes volúmenes de datos.**  \n",
    "\n",
    "---\n"
   ]
  },
  {
   "cell_type": "markdown",
   "metadata": {},
   "source": [
    "## Complejidad Temporal\n",
    "La complejidad temporal mide cuanto tiempo tarda un algoritmo en ejecutarse, el cual lo hace en funcion de la entrada (n). Esta en la ciencia computacional se expresa con la notación Big-O (O(n), O(1), O(n²), etc.), que describe cómo crece el tiempo de ejecución a medida que la entrada aumenta.\n",
    "\n",
    "\n",
    "## Complejidad Espacial\n",
    "La complejidad espacial se refiere a la cantidad de memoria que usa un algoritmo para ejecutarse, en funcion de la entrada (n). Esto es una medida que nos interesa saber ya que hacer un buen algoritmo no es solo hacer que funcione rapido, si no tambien optimizar el uso de memoria o sea que use la menor cantidad posiblke de ella.\n",
    " \n",
    "### ¿Que componentes interfieren aqui?\n",
    "\n",
    "Para medir la complejidad espacial tenemos que ver dos componentes, el espacio constante o fijo y el varible que es el que depende de (n), veamoslo más a detalle:\n",
    "\n",
    "#### Espacio fijo\n",
    "- Se refiere a la memoria que usa el codigo independientemente del tamaño de la entrada (n), el cual incluye:\n",
    "    - Variables estáticas\n",
    "    - Codigo del programa\n",
    "    - Constantes\n",
    "\n",
    "#### Espacio Variable\n",
    "- Esta es dependiente de la entrada (n) y del crecimiento de estructuras de datos como de listas, diccionarios y recursión\n",
    "\n",
    "---\n"
   ]
  },
  {
   "cell_type": "markdown",
   "metadata": {},
   "source": [
    "## Complejidad Temporal vs Complejidad Espacial\n",
    "Sabemos que es importante tener algoritmos bien optimizados para resolver problemas, lo que sucede es que en muy pocos casos vamos a poder obtener lo mejor de los dos mundos, muchas veces tenemos que sacrificar uno por el otro, si queremos que un algoritmo sea más rápido probablemente tengamos que sacrificar memoria y de querer un mejor ahorro de espacio en memoria tengamos que sacrificar el tiempo de ejecución. Aca tenemos que ver cual es la prioridad o ver bien los constrainst que tengamos para encontrar una solución adecuada al problema. A continuación vamos a explorar dos ejemplos los cuales van a mostrar mejor este punto.\n",
    "\n",
    "### Ejemplo en código #1"
   ]
  },
  {
   "cell_type": "code",
   "execution_count": null,
   "metadata": {},
   "outputs": [],
   "source": [
    "\n",
    "def repeated_number(n):\n",
    "    num = -1\n",
    "    for i in range(len(n) // 2):\n",
    "        for j in range(i + 1, len(n)):\n",
    "            if n[i] == n[j]:\n",
    "                num = n[i]\n",
    "    return num"
   ]
  },
  {
   "cell_type": "markdown",
   "metadata": {},
   "source": [
    "#### Complejidad Temporal\n",
    "En el ejemplo en código #1 el algoritmo tiene dos loops anidados, esto nos daria una complejidad temporal algoritmica cuadrática\n",
    "- **O(n²)**\n",
    "¿Qué quiere decir? Es un algoritmo lento y poco optimizado usar dos bucles anidados es una buena opcion si sabemos que nuestros datos no creceran tanto con el tiempo.\n",
    "\n",
    "#### Complejidad Espacial\n",
    "En el ejemplo en código #1 podemos ver que ese algoritmo no usa ninguna otra estructura de datos para guardar el número, solo una variable para guardar el resultado, por esa razon la complejidad espacial es de:\n",
    "- **O(1)**\n",
    "¿Qué quiere decir esto? Significa que tenemos una complejidad espacial constante, o sea casi no ocupa espacio.\n",
    "\n",
    "Veamos otro ejemplo con una mejor optimización temporal\n",
    "\n",
    "### Ejemplo en código #2\n"
   ]
  },
  {
   "cell_type": "code",
   "execution_count": null,
   "metadata": {},
   "outputs": [],
   "source": [
    "def repeated_number(n):\n",
    "    seen = set()  # 🔹 Usa memoria adicional para almacenar los elementos únicos\n",
    "    for num in n:\n",
    "        if num in seen:  # 🔹 Operación O(1) en promedio\n",
    "            return num\n",
    "        seen.add(num)  # 🔹 Se almacena en el set\n",
    "    return -1  # 🔹 No hay repetidos\n"
   ]
  }
 ],
 "metadata": {
  "language_info": {
   "name": "python"
  }
 },
 "nbformat": 4,
 "nbformat_minor": 2
}
