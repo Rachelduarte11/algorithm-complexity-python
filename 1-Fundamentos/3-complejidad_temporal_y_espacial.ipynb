{
 "cells": [
  {
   "cell_type": "markdown",
   "metadata": {},
   "source": [
    "## Why Compare Algorithm Efficiency?\n",
    "\n",
    "To predict the time and space an algorithm will take to solve a problem.\n",
    "\n",
    "### Time Complexity vs. Space Complexity\n",
    "\n",
    "#### Example Code"
   ]
  },
  {
   "cell_type": "code",
   "execution_count": null,
   "metadata": {},
   "outputs": [],
   "source": [
    "def repeated_number(n):\n",
    "    num = -1\n",
    "    for i in range(len(n) // 2):\n",
    "        for j in range(i + 1, len(n)):\n",
    "            if n[i] == n[j]:\n",
    "                num = n[i]\n",
    "    return num"
   ]
  },
  {
   "cell_type": "markdown",
   "metadata": {},
   "source": [
    "#### Time Complexity\n",
    "Since the algorithm has two nested loops, the number of computations is approximately:\n",
    "- **O(n²)**\n",
    "\n",
    "#### Space Complexity\n",
    "- It does not use any additional data structures to store numbers, only a variable to store the result.\n",
    "\n",
    "Therefore, the space complexity is:\n",
    "- **O(1)**\n"
   ]
  }
 ],
 "metadata": {
  "language_info": {
   "name": "python"
  }
 },
 "nbformat": 4,
 "nbformat_minor": 2
}
