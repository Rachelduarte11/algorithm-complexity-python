{
 "cells": [
  {
   "cell_type": "markdown",
   "metadata": {},
   "source": [
    "# Sucesión de Fibonacci\n",
    "La sucesión fue descrita en el libro Liber Abaci (1202) por Leonardo de Pisa, conocido como Fibonacci. En el libro, él propuso un problema sobre la reproducción de conejos:\n",
    "“Si una pareja de conejos produce otra pareja cada mes y esta nueva pareja tarda un mes en madurar antes de reproducirse, ¿cuántas parejas habrá después de un año?”\n",
    "El número de parejas mes a mes sigue el patrón de la sucesión de Fibonacci. 🐇\n",
    "\n",
    "La sucesión de Fibonacci tiene aplicaciones importantes en matemáticas y computación, especialmente en el análisis de algoritmos y estructuras de datos. Se utiliza para resolver problemas de recursividad, optimización y programación dinámica, como el cálculo eficiente de números Fibonacci o la resolución del problema de la subsecuencia común más larga. Además, aparece en la teoría de complejidad computacional y en algoritmos de búsqueda y ordenamiento. Su relación con la proporción áurea también se emplea en la generación de secuencias pseudoaleatorias y en la creación de modelos matemáticos que simulan fenómenos naturales y patrones de crecimiento.\n",
    "\n",
    "## Vamos a un caso practico"
   ]
  },
  {
   "cell_type": "code",
   "execution_count": null,
   "metadata": {},
   "outputs": [
    {
     "name": "stdout",
     "output_type": "stream",
     "text": [
      "3\n"
     ]
    }
   ],
   "source": [
    "def fib(n):\n",
    "    # Primero definimos nuestros casos base\n",
    "    if n == 0:\n",
    "        return 0\n",
    "    elif n == 1:\n",
    "        return 1\n",
    "    # Luego definimos la recursión\n",
    "    else:\n",
    "        return fib(n-1) + fib(n-2)\n",
    "\n",
    "print(fib(4)) "
   ]
  },
  {
   "cell_type": "markdown",
   "metadata": {},
   "source": [
    "### Veamos cómo funciona\n",
    "![Fibonacci ejemplo](../img/Fibonacci-example.png)\n",
    "\n",
    "#### Explicación \n",
    "\n",
    "- **Paso 1.** La función no conoce el valor que tiene el número Fibonacci 4 entonces la función se llama a si misma para resolver los dos números que le anteceden.\n",
    "- **Paso 2.** De fib(3) y de fib(2) tampoco conoce el valor, entonces la función se llama a si misma otra vez para resolver ambos casos.\n",
    "- **Paso 3.** De fib (2) seguimos sin conocer el valor, entonces se llama a si misma para resolver el valor. Por otra parte tenemos nuestros casos base, 1 que nos retorna 1 y 0 que nos retorna 0, Enhorabuena ya conocemos esos valores.\n",
    "- **Paso 4.** Llegamos a la ultima descomposición de fib(2) donde hallamos tambien a nuestros casos base 1 y 0."
   ]
  },
  {
   "cell_type": "markdown",
   "metadata": {},
   "source": [
    "![Fibonacci ejemplo](../img/Fibonacci-example2.png)\n",
    "Ahora la función ya conoce los casos base, gracias a las condicionales que hemos agregado, entonces procede a resolver cada caso.\n",
    "\n",
    "Ya conociendo los valores, la función  empieza a sumar  **fib(n-1) + fib(n-2)** para resolver el problema y encontrar el valor respectivo.\n",
    "\n",
    " El programa sigue un proceso llamado recursión de pila (call stack), que va \"apilando\" las llamadas hasta llegar a los casos base, y luego \"desapilando\" esas llamadas mientras regresa los resultados. Por eso parece que va hacia atrás primero y luego resuelve hacia adelante.\n",
    "\n",
    "Este proceso es muy lento para una gran cantidad de datos  el tiempo de ejecución es de **O(2^n)** el cual significa que es exponencial. Por lo tanto este no es el mejor algoritmo para resolver el número Fibonacci pero sí es el más simple de implementar."
   ]
  },
  {
   "cell_type": "markdown",
   "metadata": {},
   "source": [
    "### Optimización de Fibonacci con Programación Dinámica\n",
    "\n",
    "Este enfoque optimiza el cálculo de la sucesión de Fibonacci utilizando la técnica de \"memoization\", que almacena los resultados de subproblemas previamente calculados para evitar recomputaciones. A continuación, se explica el código paso a paso:"
   ]
  },
  {
   "cell_type": "code",
   "execution_count": null,
   "metadata": {},
   "outputs": [
    {
     "name": "stdout",
     "output_type": "stream",
     "text": [
      "354224848179261915075\n"
     ]
    }
   ],
   "source": [
    "def fibonacci(n, memo={}):\n",
    "    # Caso base: si n es 0 o 1, retorna n directamente\n",
    "    if n == 0:\n",
    "        return 0\n",
    "    elif n == 1:\n",
    "        return 1\n",
    "    \n",
    "    # Verificación en el diccionario memo para evitar cálculos repetidos\n",
    "    if n not in memo:\n",
    "        # Se almacena el resultado de fibonacci(n-1) + fibonacci(n-2)\n",
    "        memo[n] = fibonacci(n-1, memo) + fibonacci(n-2, memo)\n",
    "    \n",
    "    # Retorna el valor calculado (o almacenado previamente) de memo[n]\n",
    "    return memo[n]\n",
    "\n",
    "# Ejemplo de uso\n",
    "print(fibonacci(10))  # Salida: 55"
   ]
  },
  {
   "cell_type": "markdown",
   "metadata": {},
   "source": [
    "#### Explicación:\n",
    "1. **Caso base:** Se define que `fibonacci(0) = 0` y `fibonacci(1) = 1`.\n",
    "2. **Memoization:** Se utiliza un diccionario `memo` para almacenar los resultados de cálculos anteriores. Antes de realizar una nueva llamada recursiva, se verifica si el resultado ya existe en `memo`.\n",
    "3. **Cálculo optimizado:** Si el valor de `fibonacci(n)` no está en `memo`, se calcula recursivamente y se guarda en el diccionario.\n",
    "4. **Retorno:** Se retorna el valor almacenado en `memo[n]`, reduciendo drásticamente el número de llamadas recursivas en comparación con el enfoque clásico.\n",
    "\n",
    "#### Ventajas:\n",
    "- Reduce el tiempo de ejecución de **O(2^n)** a **O(n)**.\n",
    "- Se evitan cálculos repetidos, mejorando la eficiencia.\n",
    "\n"
   ]
  }
 ],
 "metadata": {
  "kernelspec": {
   "display_name": "base",
   "language": "python",
   "name": "python3"
  },
  "language_info": {
   "codemirror_mode": {
    "name": "ipython",
    "version": 3
   },
   "file_extension": ".py",
   "mimetype": "text/x-python",
   "name": "python",
   "nbconvert_exporter": "python",
   "pygments_lexer": "ipython3",
   "version": "3.12.3"
  }
 },
 "nbformat": 4,
 "nbformat_minor": 2
}
