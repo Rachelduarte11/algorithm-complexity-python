{
 "cells": [
  {
   "cell_type": "markdown",
   "metadata": {},
   "source": [
    "## Introducción\n",
    "\n",
    "En esta sección exploraremos la **Implementación Iterativa**, un enfoque que utiliza bucles para resolver problemas mediante la repetición de una serie de pasos hasta alcanzar la solución deseada.\n",
    "\n",
    "## Implementación Iterativa\n",
    "\n",
    "La implementación iterativa se basa en el uso de uno o varios bucles para procesar datos y resolver problemas. En lugar de recurrir a llamadas recursivas, se ejecuta una secuencia de instrucciones repetidamente, lo que puede ser más eficiente en términos de memoria y, en algunos casos, más sencillo de comprender.\n",
    "\n",
    "![Implementación Iterativa](https://www.mathwarehouse.com/programming/images/while_loop/top-5-programming-animated-gifs_demonstration-of-while-loop-animation_logo.gif)\n",
    "\n",
    "#### Características\n",
    "- **Eficiencia de memoria:** Al no usar llamadas recursivas, se evita el uso excesivo de la pila.\n",
    "- **Simplicidad:** Es ideal para problemas que se pueden dividir en tareas repetitivas o secuenciales.\n",
    "- **Control explícito:** Permite definir claramente las condiciones de inicio, repetición y término mediante bucles.\n",
    "\n",
    "#### Ejemplo: Factorial Iterativo\n"
   ]
  },
  {
   "cell_type": "code",
   "execution_count": 4,
   "metadata": {},
   "outputs": [],
   "source": [
    "n= 500"
   ]
  },
  {
   "cell_type": "code",
   "execution_count": 5,
   "metadata": {},
   "outputs": [],
   "source": [
    "def factorial_iterative(n):\n",
    "    result = 1\n",
    "    for i in range(1, n + 1):\n",
    "        result *= i\n",
    "    return result"
   ]
  },
  {
   "cell_type": "markdown",
   "metadata": {},
   "source": [
    "## Implementación Recursiva\n",
    "\n",
    "La **recursión** ocurre cuando una función se llama a sí misma para resolver un problema. Es especialmente útil para problemas que pueden dividirse en subproblemas más pequeños, permitiendo resolver cada parte de manera independiente.\n",
    "\n",
    "> *Recursion occurs when a function calls itself to solve a problem. It is useful for problems that can be divided into smaller subproblems.*\n",
    "\n",
    "![Recursion GIF](https://blog.penjee.com/wp-content/uploads/2016/05/recursion-with-code-and-animation_minimized.gif)\n",
    "\n",
    "#### Características\n",
    "- **Divide y vencerás:** Divide el problema en subproblemas más pequeños hasta alcanzar el caso base.\n",
    "- **Uso de memoria:** Cada llamada recursiva se almacena en la pila, lo que puede incrementar el uso de memoria.\n",
    "- **Expresividad:** Puede resultar en soluciones más elegantes y fáciles de entender para ciertos problemas, como en estructuras de datos de árboles o grafos.\n",
    "\n",
    "#### Ejemplo: Factorial Recursivo\n"
   ]
  },
  {
   "cell_type": "code",
   "execution_count": 6,
   "metadata": {},
   "outputs": [],
   "source": [
    "def factorial_recursive(n):\n",
    "    if n == 0 or n == 1:\n",
    "        return 1\n",
    "    else:\n",
    "        return n * factorial_recursive(n - 1)"
   ]
  },
  {
   "cell_type": "markdown",
   "metadata": {},
   "source": [
    "## Recursive Implementation vs Iterative Implementation\n",
    "\n",
    "This code compares the efficiency of two implementations of the factorial calculation:\n",
    "\n",
    "\n",
    "1. **Iterative:** Uses a `while` loop to multiply numbers successively until reaching `1`.\n",
    "2. **Recursive:** Uses recursive calls to break down the problem into smaller subproblems until reaching the base case (`n == 1`).\n"
   ]
  },
  {
   "cell_type": "code",
   "execution_count": 8,
   "metadata": {},
   "outputs": [
    {
     "name": "stdout",
     "output_type": "stream",
     "text": [
      "Tiempo factorial iterativo: 2.836505889892578\n",
      "Memoria factorial iterativo (actual/max): 155767 / 560279 bytes\n",
      "Tiempo factorial recursivo: 134.78320598602295\n",
      "Memoria factorial recursivo (actual/max): 154169 / 3346397 bytes\n"
     ]
    }
   ],
   "source": [
    "import time\n",
    "import sys\n",
    "import tracemalloc\n",
    "\n",
    "sys.setrecursionlimit(1000000)\n",
    "\n",
    "# Factorial Iterativo\n",
    "def factorial(n):\n",
    "    respuesta = 1\n",
    "    while n > 1:\n",
    "        respuesta *= n\n",
    "        n -= 1\n",
    "    return respuesta\n",
    "\n",
    "# Factorial Recursivo\n",
    "def factorial_r(n):\n",
    "    if n == 1:\n",
    "        return 1\n",
    "    return n * factorial_r(n - 1)\n",
    "\n",
    "if __name__ == '__main__':\n",
    "    n = 100000\n",
    "\n",
    "    # Medir tiempo y memoria para el factorial iterativo\n",
    "    tracemalloc.start()  # Inicia el rastreo de memoria\n",
    "    comienzo = time.time()\n",
    "    factorial(n)\n",
    "    final = time.time()\n",
    "    memoria_iterativa = tracemalloc.get_traced_memory()  # uso de memoria actual y máximo\n",
    "    tracemalloc.stop()\n",
    "    print(\"Tiempo factorial iterativo:\", final - comienzo)\n",
    "    print(\"Memoria factorial iterativo (actual/max):\", memoria_iterativa[0], \"/\", memoria_iterativa[1], \"bytes\")\n",
    "\n",
    "    # Medir tiempo y memoria para el factorial recursivo\n",
    "    tracemalloc.start()  # Reinicia el rastreo de memoria\n",
    "    comienzo = time.time()\n",
    "    factorial_r(n)\n",
    "    final = time.time()\n",
    "    memoria_recursiva = tracemalloc.get_traced_memory()  # uso de memoria actual y máximo\n",
    "    tracemalloc.stop()\n",
    "    print(\"Tiempo factorial recursivo:\", final - comienzo)\n",
    "    print(\"Memoria factorial recursivo (actual/max):\", memoria_recursiva[0], \"/\", memoria_recursiva[1], \"bytes\")\n"
   ]
  },
  {
   "cell_type": "markdown",
   "metadata": {},
   "source": [
    "## Evaluación del Rendimiento\n",
    "\n",
    "El programa mide tanto el **tiempo de ejecución** como el **uso de memoria** de ambas implementaciones (iterativa y recursiva) mediante las siguientes herramientas:\n",
    "\n",
    "- **`tracemalloc`**: Se utiliza para rastrear el uso de memoria durante la ejecución.\n",
    "- **`time.time()`**: Permite medir el tiempo de ejecución de cada implementación.\n",
    "- **`sys.setrecursionlimit(1000000)`**: Incrementa el límite de recursión para evitar errores al calcular factoriales de números grandes.\n",
    "\n",
    "**Observación:**  \n",
    "Para `n = 100000`, se observó que la **versión iterativa es más eficiente**, ya que evita el sobrecoste asociado al manejo de la pila de llamadas (call stack) que se utiliza en la implementación recursiva.\n"
   ]
  }
 ],
 "metadata": {
  "kernelspec": {
   "display_name": "base",
   "language": "python",
   "name": "python3"
  },
  "language_info": {
   "codemirror_mode": {
    "name": "ipython",
    "version": 3
   },
   "file_extension": ".py",
   "mimetype": "text/x-python",
   "name": "python",
   "nbconvert_exporter": "python",
   "pygments_lexer": "ipython3",
   "version": "3.12.3"
  }
 },
 "nbformat": 4,
 "nbformat_minor": 2
}
