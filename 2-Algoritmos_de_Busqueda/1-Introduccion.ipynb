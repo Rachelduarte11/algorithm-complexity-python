{
 "cells": [
  {
   "cell_type": "markdown",
   "metadata": {},
   "source": [
    "# Introducción a los algoritmos de búsqueda\n",
    "\n",
    "### Primera cosa que hay que conocer\n",
    "\n",
    "Al optimizar un algoritmo, generalmente se debe elegir entre usar más memoria o más tiempo. Si se quiere un tiempo de ejecución más rápido (como en la búsqueda binaria), es probable que se necesite usar más espacio en memoria, como guardar una lista ordenada. Por el contrario, si se busca minimizar el uso de memoria, se sacrifica el tiempo de ejecución, lo que puede hacer que el algoritmo sea menos eficiente. No se puede lograr eficiencia en ambos aspectos simultáneamente."
   ]
  },
  {
   "cell_type": "markdown",
   "metadata": {},
   "source": [
    "## Diferencias entre busqueda binaria y busqueda lineal "
   ]
  },
  {
   "cell_type": "markdown",
   "metadata": {},
   "source": [
    "![Binary vs Linear Search](https://www.mathwarehouse.com/programming/images/binary-vs-linear-search/binary-and-linear-search-animations.gif)\n"
   ]
  },
  {
   "cell_type": "code",
   "execution_count": null,
   "metadata": {
    "vscode": {
     "languageId": "plaintext"
    }
   },
   "outputs": [],
   "source": []
  },
  {
   "cell_type": "markdown",
   "metadata": {},
   "source": [
    "### Búsqueda Binaria\n",
    "\n",
    "La busqueda Binaria asume que tienes una lista ordenada y empieza a dividir a la mitad en cada iteracción para así encontrar el numero correspondiente, en el ejemplo del video la busqueda binaria logra encontrar el número en solo 3 pasos mientras la lineal tiene que recorrer cada item para encontrarlo."
   ]
  }
 ],
 "metadata": {
  "language_info": {
   "name": "python"
  }
 },
 "nbformat": 4,
 "nbformat_minor": 2
}
