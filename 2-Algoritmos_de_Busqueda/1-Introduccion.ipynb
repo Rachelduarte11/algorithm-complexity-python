{
 "cells": [
  {
   "cell_type": "markdown",
   "metadata": {},
   "source": [
    "# Introducción a los algoritmos de búsqueda\n",
    "\n",
    "### Primera cosa que hay que conocer\n",
    "\n",
    "Al optimizar un algoritmo, generalmente se debe elegir entre usar más memoria o más tiempo, como lo hemos visto en [Complejidad Temporal y Espacial](../1-Fundamentos/3-Complejidad_Temporal_y_Espacial.ipynb). Si se quiere un tiempo de ejecución más rápido (como en la búsqueda binaria), es probable que se necesite usar más espacio en memoria, como guardar una lista ordenada. Por el contrario, si se busca minimizar el uso de memoria, se sacrifica el tiempo de ejecución, lo que puede hacer que el algoritmo sea menos eficiente. No se puede lograr eficiencia en ambos aspectos simultáneamente.\n",
    "\n"
   ]
  },
  {
   "cell_type": "markdown",
   "metadata": {},
   "source": [
    "![Binary vs Linear Search](https://www.mathwarehouse.com/programming/images/binary-vs-linear-search/binary-and-linear-search-animations.gif)\n"
   ]
  },
  {
   "cell_type": "markdown",
   "metadata": {},
   "source": [
    "## Busqueda Lineal\n",
    "\n",
    "La busqueda lineal es uno de los algoritmos más facil del implementar y leer, esta es una estructura que hace comparaciones en cada elemento hasta encontrar el valor buscado. Si el elemento no coincide con el valor buscado se mueve un elemento a la derecha y hace el mismo proceso hasta encontrarlo.\n",
    "\n",
    "![Busqueda Lineal](https://www.tutorialspoint.com/data_structures_algorithms/images/linear_search.gif)\n",
    "\n"
   ]
  },
  {
   "cell_type": "markdown",
   "metadata": {},
   "source": [
    "**El peor caso de esta busqueda es que el elemento esté de ultimo o simplemente no esté, por lo tanto su complejidad algoritmica es de O(n).**\n",
    "\n",
    "#### Veamos los pasos que hace.\n",
    "\n",
    "1. En el ejemplo **Linear Search** vemos que el contador empieza desde el indíce 0, compara si el valor que existe en ese indíce es igual al buscado (33).\n",
    "\n",
    "2. Como no es asi, aumenta +1 el valor del contador y pasamos al siguiente indíce, vuelve a hacer la comparación.\n",
    "\n",
    "3. Sigue haciendo el mismo proceso hasta que llega al indice 6, donde hace la comparación y el valor del elemento coincide con el que busca.\n",
    "\n",
    "4. Retorna un true y termina el algoritmo.\n",
    "\n",
    "#### Para probar este codigo con un ejemplo práctico te invito a ir a [Busqueda Lineal](../2-Algoritmos_de_Busqueda/2-busqueda_lineal.py) y probar el código en la consola.\n",
    "\n",
    "\n",
    "---"
   ]
  },
  {
   "cell_type": "markdown",
   "metadata": {},
   "source": [
    "## Búsqueda Binaria\n",
    "\n",
    "Este es uno de los algoritmos más eficientes de busqueda, sin embargo siempre necesita que se le pase una lista ordenada ya que empieza a dividir a la mita en cada iteracción para así encontrar el numero correspondiente.\n",
    "\n",
    "Este algoritmo personalmente me parece lindo de implementar, me parece increíble como a través de esta técnica podemos hallar lo que buscamos en menos pasos.\n",
    "\n",
    "![Busqueda Binaria](https://preview.redd.it/a-visual-guide-to-binary-search-v0-7khf6vd42ojd1.gif?width=1334&auto=webp&s=0cadfc9c11e998869459baeef1b9dae234d633f3)"
   ]
  },
  {
   "cell_type": "markdown",
   "metadata": {},
   "source": [
    "#### En este ejemplo se hace lo siguiente:\n",
    "\n",
    "1. El algoritmo quiere encontrar el valor 6.\n",
    "2. El algoritmo encuentra la primera mitad de la longitud de la lista, como esta lista tiene 14 indices, significa que encuentra la primera mitad en el indice 7, el valor de este indice es de 8.\n",
    "3. Verifica si el valor que busca (6) es el valor de ese indice (8).\n",
    "4. Si es falso entonces verifica si el valor de ese indice #7 (8) es mayor o menor que el valor buscado.\n",
    "5. Como el valor que busca es menor que 8 entonces va hacia la primera mitad de la izquierda (6 < 8)\n",
    "6. Cuando toma esa mitad el vuelve a dividir la lista en dos y ahora la mitad quedo en el indice 3 el cual tiene el valor 4\n",
    "7. El algoritmo compara si el valor de 4 es igual a 6, no es asi.\n",
    "8. Verifica si 4 es mayor o menor que 6, como 6 es mayor que 4 entonces toma la mitad que habia quedado en la derecha.\n",
    "9. y ahora se va a la mitad de ese fragmento de lista, compara si el valor del indice el cual es 6 es igual que el valor buscado (6), es verdadero.\n",
    "10. El algoritmo encuentra el valor en la tercera mitad, esto quiere decir que dio 3 pasos para llegar aqui y encontrar el valor buscado.\n",
    "\n",
    "**Recordatorio:** Este algoritmo asume que tenemos una lista ordenada y es por eso que a través de comparaciones se puede mover hacia un la mtad derecha o izquierda"
   ]
  },
  {
   "cell_type": "markdown",
   "metadata": {},
   "source": [
    "#### La complejidad algorítmica es de: **O(n log n)** o sea es una complejidad logarítmica\n",
    "\n",
    "Te invito a visitar el siguiente ejemplo el cual está realizado con una implementación recursiva [Búsqueda Binaria](../2-Algoritmos_de_Busqueda/3-Busqueda_Binaria.py) y probarlo en tu consola\n",
    "\n",
    "---"
   ]
  },
  {
   "cell_type": "markdown",
   "metadata": {},
   "source": [
    "## Conclusiones\n"
   ]
  }
 ],
 "metadata": {
  "language_info": {
   "name": "python"
  }
 },
 "nbformat": 4,
 "nbformat_minor": 2
}
